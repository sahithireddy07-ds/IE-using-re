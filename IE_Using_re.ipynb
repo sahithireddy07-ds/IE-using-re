{
  "nbformat": 4,
  "nbformat_minor": 0,
  "metadata": {
    "colab": {
      "name": "IE Using re.ipynb",
      "provenance": [],
      "collapsed_sections": []
    },
    "kernelspec": {
      "name": "python3",
      "display_name": "Python 3"
    },
    "language_info": {
      "name": "python"
    }
  },
  "cells": [
    {
      "cell_type": "markdown",
      "metadata": {
        "id": "KW0dDw-WGDb_"
      },
      "source": [
        "- Acquire a suitable text corpus and develop a template-filling system by using machine learning techniques. You can use any suitable text corpus like the CMU seminar corpus. Perform the various template filling tasks such as template recognition and role-filler extraction. Analyze how well your system performs as compared with state-of-the-art results on this corpus"
      ]
    },
    {
      "cell_type": "markdown",
      "metadata": {
        "id": "33TjpxF4GJXE"
      },
      "source": [
        "- Data : CMU Seminar corpus\n",
        "\n",
        "- Extraction technique: re library\n"
      ]
    },
    {
      "cell_type": "markdown",
      "metadata": {
        "id": "2uRFwji0G9Nl"
      },
      "source": [
        "- importing library"
      ]
    },
    {
      "cell_type": "code",
      "metadata": {
        "id": "2ZO6EnTkRI9o"
      },
      "source": [
        "import re"
      ],
      "execution_count": null,
      "outputs": []
    },
    {
      "cell_type": "markdown",
      "metadata": {
        "id": "eQzHsKnQG0JT"
      },
      "source": [
        "- loading data(single file)"
      ]
    },
    {
      "cell_type": "code",
      "metadata": {
        "id": "UR_xufH_8-p_"
      },
      "source": [
        "f=open(\"/content/cmu.andrew.academic.bio-242_0\",'r').read()"
      ],
      "execution_count": null,
      "outputs": []
    },
    {
      "cell_type": "markdown",
      "metadata": {
        "id": "mSiINTmKG4a3"
      },
      "source": [
        "- pre processing of data"
      ]
    },
    {
      "cell_type": "code",
      "metadata": {
        "id": "-S_OmAlgFei_",
        "colab": {
          "base_uri": "https://localhost:8080/",
          "height": 143
        },
        "outputId": "a4bbf11e-2647-4e0a-d561-81b53473747c"
      },
      "source": [
        "f=f.replace(\"a.m\",\"AM\")\n",
        "f=f.replace(\"p.m\",\"PM\")\n",
        "f"
      ],
      "execution_count": null,
      "outputs": [
        {
          "output_type": "execute_result",
          "data": {
            "application/vnd.google.colaboratory.intrinsic+json": {
              "type": "string"
            },
            "text/plain": [
              "'<0.26.4.95.11.09.31.hf08+@andrew.cmu.edu.0>\\nType:     cmu.andrew.academic.bio\\nTopic:    \"MHC Class II: A Target for Specific Immunomodulation of the\\n          Immune Response\"\\nDates:    3-May-95\\nTime:     <stime>3:30 PM</stime>\\nPlace:    <location>Mellon Institute Conference Room</location>\\nPostedBy: Helena R. Frey on 26-Apr-95 at 11:09 from andrew.cmu.edu\\nAbstract: \\n\\n\\n Seminar: Departments of Biological Sciences\\n Carnegie Mellon and University of Pittsburgh\\n Name: <speaker>Dr. Jeffrey D. Hermes</speaker>\\n Affiliation: Department of Autoimmune Diseases Research & Biophysical Chemistry\\n Merck Research Laboratories\\n Title: \"MHC Class II: A Target for Specific Immunomodulation of the\\n Immune Response\"\\n Host/e-mail: Robert Murphy, murphy@a.cfr.cmu.edu\\n Date: Wednesday, May 3, 1995\\n Time: <stime>3:30 PM</stime>.\\n Place: <location>Mellon Institute Conference Room</location>\\n Sponsor:  MERCK RESEARCH LABORATORIES\\n\\n\\x0cSchedule for 1995 follows: (as of 4/26/95)\\nBiological Sciences      Seminars          1994-1995\\t\\t\\t\\t\\nDate\\tSpeaker\\tHost\\nApril 26\\tHelen Salz\\tJavier L~pez\\nMay 3\\tJefferey Hermes\\tBob Murphy\\nMERCK RESEARCH LABORATORIES\\n\\n'"
            ]
          },
          "metadata": {
            "tags": []
          },
          "execution_count": 28
        }
      ]
    },
    {
      "cell_type": "code",
      "metadata": {
        "id": "B1eOBXkRQvU2"
      },
      "source": [
        "def tag(f):\n",
        "  topic=re.findall(\"(?<=Title: )(.*\\s.*)\",f)\n",
        "  speak=re.findall(\"<speaker>(.*?)</speaker>\",f)\n",
        "  location=re.findall(\"<location>(.*?)</location>\",f)\n",
        "  time=set(re.findall(\"<stime>(.*?)</stime>\",f))\n",
        "  date=re.findall(\"(?<=Date: ).*\",f)\n",
        "  print(topic)\n",
        "  print(speak)\n",
        "  print(location)\n",
        "  print(time)\n",
        "  print(date)"
      ],
      "execution_count": null,
      "outputs": []
    },
    {
      "cell_type": "markdown",
      "metadata": {
        "id": "ZgCDIxpWHCrO"
      },
      "source": [
        "- output"
      ]
    },
    {
      "cell_type": "code",
      "metadata": {
        "id": "HcnxK-GuRpid",
        "colab": {
          "base_uri": "https://localhost:8080/"
        },
        "outputId": "5f0fdfba-e2a9-4feb-c965-d33cac527a35"
      },
      "source": [
        "tag(f)"
      ],
      "execution_count": null,
      "outputs": [
        {
          "output_type": "stream",
          "text": [
            "['\"MHC Class II: A Target for Specific Immunomodulation of the\\n Immune Response\"']\n",
            "['Dr. Jeffrey D. Hermes']\n",
            "['Mellon Institute Conference Room', 'Mellon Institute Conference Room']\n",
            "{'3:30 PM'}\n",
            "['Wednesday, May 3, 1995']\n"
          ],
          "name": "stdout"
        }
      ]
    },
    {
      "cell_type": "markdown",
      "metadata": {
        "id": "y1U8aIpdHE5U"
      },
      "source": [
        "- Conclusion:\n",
        "\n",
        "Using a loop, we can extract the data similarly to the above given code"
      ]
    }
  ]
}